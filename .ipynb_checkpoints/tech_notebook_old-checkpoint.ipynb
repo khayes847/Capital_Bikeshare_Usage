{
 "cells": [
  {
   "cell_type": "code",
   "execution_count": null,
   "metadata": {},
   "outputs": [],
   "source": [
    "import numpy as np\n",
    "import matplotlib.pyplot as plt\n",
    "plt.style.use('seaborn-darkgrid')\n",
    "import seaborn as sns\n",
    "import statsmodels.api as sm\n",
    "from statsmodels.graphics.gofplots import qqplot\n",
    "from statsmodels.tsa.seasonal import seasonal_decompose\n",
    "from statsmodels.tsa.stattools import adfuller\n",
    "from sklearn.metrics import mean_squared_error\n",
    "from sklearn.preprocessing import MinMaxScaler\n",
    "import itertools\n",
    "import pandas as pd\n",
    "import pickle\n",
    "\n",
    "import mse\n",
    "import prediction_plots as pplot\n",
    "import warnings\n",
    "from pmdarima import auto_arima\n",
    "warnings.filterwarnings(\"ignore\")\n",
    "import data_prep as d\n",
    "\n",
    "%load_ext autoreload\n",
    "%autoreload 2"
   ]
  },
  {
   "cell_type": "code",
   "execution_count": 4,
   "metadata": {},
   "outputs": [
    {
     "ename": "SyntaxError",
     "evalue": "invalid syntax (data_prep.py, line 96)",
     "output_type": "error",
     "traceback": [
      "Traceback \u001b[1;36m(most recent call last)\u001b[0m:\n",
      "  File \u001b[0;32m\"C:\\Users\\Rocio\\Anaconda3\\lib\\site-packages\\IPython\\core\\interactiveshell.py\"\u001b[0m, line \u001b[0;32m3325\u001b[0m, in \u001b[0;35mrun_code\u001b[0m\n    exec(code_obj, self.user_global_ns, self.user_ns)\n",
      "\u001b[1;36m  File \u001b[1;32m\"<ipython-input-4-376d6d0c79e1>\"\u001b[1;36m, line \u001b[1;32m1\u001b[1;36m, in \u001b[1;35m<module>\u001b[1;36m\u001b[0m\n\u001b[1;33m    import data_prep as d\u001b[0m\n",
      "\u001b[1;36m  File \u001b[1;32m\"C:\\Users\\Rocio\\Desktop\\Class_files\\Projects\\module_4\\actual\\Mod_4_project\\data_prep.py\"\u001b[1;36m, line \u001b[1;32m96\u001b[0m\n\u001b[1;33m    data['member_type'] = data['member_type'].map(.map(lambda x: x.lower()))\u001b[0m\n\u001b[1;37m                                                  ^\u001b[0m\n\u001b[1;31mSyntaxError\u001b[0m\u001b[1;31m:\u001b[0m invalid syntax\n"
     ]
    }
   ],
   "source": [
    "import data_prep as d"
   ]
  },
  {
   "cell_type": "code",
   "execution_count": null,
   "metadata": {
    "scrolled": true
   },
   "outputs": [],
   "source": [
    "d.full_clean()"
   ]
  },
  {
   "cell_type": "code",
   "execution_count": 2,
   "metadata": {},
   "outputs": [
    {
     "ename": "NameError",
     "evalue": "name 'd' is not defined",
     "output_type": "error",
     "traceback": [
      "\u001b[1;31m---------------------------------------------------------------------------\u001b[0m",
      "\u001b[1;31mNameError\u001b[0m                                 Traceback (most recent call last)",
      "\u001b[1;32m<ipython-input-2-44f50f855a67>\u001b[0m in \u001b[0;36m<module>\u001b[1;34m\u001b[0m\n\u001b[1;32m----> 1\u001b[1;33m \u001b[0md\u001b[0m\u001b[1;33m.\u001b[0m\u001b[0mcreate_member\u001b[0m\u001b[1;33m(\u001b[0m\u001b[1;33m)\u001b[0m\u001b[1;33m\u001b[0m\u001b[1;33m\u001b[0m\u001b[0m\n\u001b[0m",
      "\u001b[1;31mNameError\u001b[0m: name 'd' is not defined"
     ]
    }
   ],
   "source": [
    "d.create_member()"
   ]
  },
  {
   "cell_type": "code",
   "execution_count": null,
   "metadata": {},
   "outputs": [],
   "source": [
    "master = pd.read_csv('master.csv')"
   ]
  },
  {
   "cell_type": "code",
   "execution_count": null,
   "metadata": {},
   "outputs": [],
   "source": [
    "master.set_index('date_of_trip', inplace = True)"
   ]
  },
  {
   "cell_type": "code",
   "execution_count": null,
   "metadata": {},
   "outputs": [],
   "source": [
    "master.index = pd.to_datetime(master.index)"
   ]
  },
  {
   "cell_type": "code",
   "execution_count": null,
   "metadata": {},
   "outputs": [],
   "source": [
    "master_m = master.resample('m').sum()"
   ]
  },
  {
   "cell_type": "code",
   "execution_count": null,
   "metadata": {},
   "outputs": [],
   "source": [
    "plt.plot(master);"
   ]
  },
  {
   "cell_type": "code",
   "execution_count": null,
   "metadata": {},
   "outputs": [],
   "source": [
    "dc_temps = pd.read_csv('dc_temps.csv')\n",
    "dc_precips = pd.read_csv('dc_precips.csv')"
   ]
  },
  {
   "cell_type": "code",
   "execution_count": null,
   "metadata": {},
   "outputs": [],
   "source": [
    "rename_dict = {}\n",
    "rename_dict['Unnamed: 0'] = 'Year'\n",
    "dc_temps.rename(columns = rename_dict, inplace = True)\n",
    "dc_precips.rename(columns = rename_dict, inplace = True)\n",
    "dc_temps.set_index('Year', inplace = True)\n",
    "dc_precips.set_index('Year', inplace = True)"
   ]
  },
  {
   "cell_type": "code",
   "execution_count": null,
   "metadata": {},
   "outputs": [],
   "source": [
    "dc_temps_stack = dc_temps.stack()\n",
    "dc_precips_stack = dc_precips.stack()"
   ]
  },
  {
   "cell_type": "code",
   "execution_count": null,
   "metadata": {},
   "outputs": [],
   "source": [
    "master_m['avg_temp'] = np.array(dc_temps_stack)\n",
    "master_m['avg_precips'] = np.array(dc_precips_stack)"
   ]
  },
  {
   "cell_type": "code",
   "execution_count": null,
   "metadata": {},
   "outputs": [],
   "source": [
    "fig = plt.figure(figsize = (15,10))\n",
    "\n",
    "plt.plot(master_m['count'], lw = 2, color = 'mediumseagreen')\n",
    "\n",
    "plt.xlabel('Date', fontsize = 20);\n",
    "plt.ylabel('Count', fontsize = 20);\n",
    "\n",
    "plt.title('Number of Bike Rentals per Week, Time Series', fontsize = 30);\n",
    "plt.title('Number of Bike Rentals per Month, Time Series', fontsize = 30);"
   ]
  },
  {
   "cell_type": "code",
   "execution_count": null,
   "metadata": {},
   "outputs": [],
   "source": [
    "TRAIN = .75\n",
    "train_index_m = int(len(master_m)*TRAIN) + 1\n",
    "train_m = master_m.iloc[:train_index_m]\n",
    "test_m = master_m.iloc[train_index_m:]"
   ]
  },
  {
   "cell_type": "code",
   "execution_count": null,
   "metadata": {},
   "outputs": [],
   "source": [
    "fig = plt.figure(figsize = (15,8))\n",
    "\n",
    "plt.plot(train_m['count'], lw = 3)\n",
    "plt.plot(test_m['count'], lw = 3, color = 'navy')\n",
    "plt.legend(['Train', 'Test'],prop={'size': 24}) \n",
    "\n",
    "plt.xlabel('Date', fontsize = 20);\n",
    "plt.ylabel('Count', fontsize = 20);\n",
    "\n",
    "plt.title('Number of Bike Rentals per Month, Time Series', fontsize = 30);"
   ]
  },
  {
   "cell_type": "code",
   "execution_count": null,
   "metadata": {},
   "outputs": [],
   "source": [
    "decomposition = seasonal_decompose(train_m['count'], freq=12)\n",
    "fig = plt.figure()\n",
    "fig = decomposition.plot()\n",
    "fig.set_size_inches(15, 8)"
   ]
  },
  {
   "cell_type": "code",
   "execution_count": null,
   "metadata": {},
   "outputs": [],
   "source": [
    "def test_stationarity(timeseries, window):\n",
    "    \n",
    "    #Determing rolling statistics\n",
    "    rolmean = timeseries.rolling(window=window).mean()\n",
    "    rolstd = timeseries.rolling(window=window).std()\n",
    "\n",
    "    #Plot rolling statistics:\n",
    "    fig = plt.figure(figsize=(12, 8))\n",
    "    orig = plt.plot(timeseries.iloc[window:], color='blue',label='Original')\n",
    "    mean = plt.plot(rolmean, color='red', label='Rolling Mean')\n",
    "    std = plt.plot(rolstd, color='black', label = 'Rolling Std')\n",
    "    plt.legend(loc='best')\n",
    "    plt.title('Rolling Mean & Standard Deviation')\n",
    "    plt.show()\n",
    "    \n",
    "    #Perform Dickey-Fuller test:\n",
    "    print ('Results of Dickey-Fuller Test:')\n",
    "    dftest = adfuller(timeseries, autolag='AIC')\n",
    "    dfoutput = pd.Series(dftest[0:4], index=['Test Statistic','p-value','#Lags Used','Number of Observations Used'])\n",
    "    for key,value in dftest[4].items():\n",
    "        dfoutput['Critical Value (%s)'%key] = value\n",
    "    print (dfoutput)\n"
   ]
  },
  {
   "cell_type": "markdown",
   "metadata": {},
   "source": [
    "## First Order Difference "
   ]
  },
  {
   "cell_type": "code",
   "execution_count": null,
   "metadata": {},
   "outputs": [],
   "source": [
    "train_1_diff = train_m.copy()\n",
    "train_1_diff['count'] = train_m['count'].diff()\n",
    "train_1_diff.dropna(inplace = True)\n",
    "test_stationarity(train_1_diff['count'], 12)"
   ]
  },
  {
   "cell_type": "markdown",
   "metadata": {},
   "source": [
    "## Second Order Difference"
   ]
  },
  {
   "cell_type": "code",
   "execution_count": null,
   "metadata": {},
   "outputs": [],
   "source": [
    "train_2_diff = train_m.copy()\n",
    "train_2_diff['count'] = train_m['count'].diff().diff()\n",
    "train_2_diff.dropna(inplace = True)\n",
    "test_stationarity(train_2_diff['count'], 12)"
   ]
  },
  {
   "cell_type": "markdown",
   "metadata": {},
   "source": [
    "## First Seasonal Difference"
   ]
  },
  {
   "cell_type": "code",
   "execution_count": null,
   "metadata": {},
   "outputs": [],
   "source": [
    "train_1_season = train_m.copy()\n",
    "train_1_season = train_1_season - train_1_season.shift(12)\n",
    "train_1_season.dropna(inplace = True)\n",
    "test_stationarity(train_1_season['count'], 12)"
   ]
  },
  {
   "cell_type": "markdown",
   "metadata": {},
   "source": [
    "## First Seasonal Difference of First Order Difference"
   ]
  },
  {
   "cell_type": "code",
   "execution_count": null,
   "metadata": {},
   "outputs": [],
   "source": [
    "train_1_season_diff_1_diff = train_1_diff.copy()\n",
    "train_1_season_diff_1_diff['count'] = train_1_season_diff_1_diff['count'] - train_1_season_diff_1_diff['count'].shift(12)\n",
    "train_1_season_diff_1_diff.dropna(inplace = True)\n",
    "test_stationarity(train_1_season_diff_1_diff['count'], 12)"
   ]
  },
  {
   "cell_type": "markdown",
   "metadata": {},
   "source": [
    "## This suggests, d = 1, D = 1. Now look at ACF and PACF."
   ]
  },
  {
   "cell_type": "code",
   "execution_count": null,
   "metadata": {},
   "outputs": [],
   "source": [
    "fig = plt.figure(figsize=(12,8))\n",
    "ax1 = fig.add_subplot(211)\n",
    "#plot the ACF\n",
    "fig = sm.graphics.tsa.plot_acf(train_1_season_diff_1_diff['count'].iloc[1:], lags=13, ax=ax1)\n",
    "ax2 = fig.add_subplot(212)\n",
    "#plot the PACF\n",
    "fig = sm.graphics.tsa.plot_pacf(train_1_season_diff_1_diff['count'].iloc[1:], lags=13, ax=ax2)"
   ]
  },
  {
   "cell_type": "markdown",
   "metadata": {},
   "source": [
    "# AFC looks good. PAFC suggests 2 significant lags (p = 2). AFC suggests q = 1- 3."
   ]
  },
  {
   "cell_type": "markdown",
   "metadata": {},
   "source": [
    "## Models to try:\n",
    "\n",
    "#### (2,1,0)(0,1,0,12)\n",
    "#### (2,1,0)(0,1,1,12)\n",
    "#### (2,1,0)(1,1,0,12)\n",
    "#### (2,1,1)(0,1,0,12)\n",
    "#### (2,1,1)(0,1,1,12)\n",
    "#### (2,1,1)(1,1,0,12)\n",
    "#### (2,1,2)(0,1,0,12)\n",
    "#### (2,1,2)(0,1,1,12)\n",
    "#### (2,1,2)(1,1,0,12)\n",
    "#### (2,1,3)(0,1,0,12)\n",
    "#### (2,1,3)(0,1,1,12)\n",
    "#### (2,1,3)(1,1,0,12)"
   ]
  },
  {
   "cell_type": "code",
   "execution_count": null,
   "metadata": {},
   "outputs": [],
   "source": [
    "orders = [(2,1,0),(2,1,1),(2,1,2),(2,1,3)]\n",
    "seasonal_orders = [(0,1,0,12),(1,1,0,12),(0,1,1,12)]"
   ]
  },
  {
   "cell_type": "code",
   "execution_count": null,
   "metadata": {},
   "outputs": [],
   "source": [
    "mse_dict = {}\n",
    "\n",
    "for o in orders:   \n",
    "    for s_o in seasonal_orders:\n",
    "        model = sm.tsa.statespace.SARIMAX(train_m['count'], order=(o[0],o[1],o[2]), \n",
    "                                          seasonal_order=(s_o[0],s_o[1],s_o[2],s_o[3])).fit()\n",
    "        print(model.summary())\n",
    "        train_mse, test_mse = mse.compare_mse(model, train_m, test_m)\n",
    "        pplot.prediction_plot(model, train_m, test_m, o[0],o[1],o[2],s_o[0],s_o[1],s_o[2],s_o[3])\n",
    "        \n",
    "        mse_dict[f'{o},{s_o}'] = {'Training MSE': \"{:.2e}\".format(train_mse), 'Testing MSE': \"{:.2e}\".format(test_mse)}\n",
    "        "
   ]
  },
  {
   "cell_type": "code",
   "execution_count": null,
   "metadata": {},
   "outputs": [],
   "source": [
    "mse_dict"
   ]
  },
  {
   "cell_type": "markdown",
   "metadata": {},
   "source": [
    "## Best two are (2,1,2)(0,1,1,12), and (2,1,2)(1,1,0,12)."
   ]
  },
  {
   "cell_type": "code",
   "execution_count": null,
   "metadata": {},
   "outputs": [],
   "source": [
    "model_212_01112 = sm.tsa.statespace.SARIMAX(train_m['count'], trend='n', order=(2,1,2), \n",
    "                                          seasonal_order=(0,1,1,12)).fit()\n",
    "model_212_11012 = sm.tsa.statespace.SARIMAX(train_m['count'], trend='n', order=(2,1,2), \n",
    "                                          seasonal_order=(1,1,0,12)).fit()"
   ]
  },
  {
   "cell_type": "code",
   "execution_count": null,
   "metadata": {
    "scrolled": true
   },
   "outputs": [],
   "source": [
    "pplot.forecast_plot(model_212_01112,master_m,24,2,1,2,0,1,1,12)"
   ]
  },
  {
   "cell_type": "code",
   "execution_count": null,
   "metadata": {},
   "outputs": [],
   "source": [
    "pplot.forecast_plot(model_212_11012,master_m,24,2,1,2,1,1,0,12)"
   ]
  },
  {
   "cell_type": "code",
   "execution_count": null,
   "metadata": {},
   "outputs": [],
   "source": [
    "model_212_01112.resid.hist()"
   ]
  },
  {
   "cell_type": "code",
   "execution_count": null,
   "metadata": {},
   "outputs": [],
   "source": [
    "qqplot(model_212_01112.resid, line = 's' )"
   ]
  },
  {
   "cell_type": "code",
   "execution_count": null,
   "metadata": {},
   "outputs": [],
   "source": [
    "model_212_11012.resid.hist()"
   ]
  },
  {
   "cell_type": "code",
   "execution_count": null,
   "metadata": {},
   "outputs": [],
   "source": [
    "qqplot(model_212_11012.resid, line = 's' )"
   ]
  },
  {
   "cell_type": "markdown",
   "metadata": {},
   "source": [
    "## Residuals look normal for both models."
   ]
  },
  {
   "cell_type": "markdown",
   "metadata": {},
   "source": [
    "## Will start with SARIMA (2,1,2) (0,1,1,12) and SARIMA (2,1,2)(1,1,0,12) going forward. Next, look at monthly average weather and precipitation as regressors."
   ]
  },
  {
   "cell_type": "code",
   "execution_count": null,
   "metadata": {},
   "outputs": [],
   "source": [
    "train_m[['avg_temp','avg_precips']].hist()"
   ]
  },
  {
   "cell_type": "code",
   "execution_count": null,
   "metadata": {},
   "outputs": [],
   "source": [
    "scale = MinMaxScaler()\n",
    "scale.fit(train_m[['avg_temp','avg_precips']])"
   ]
  },
  {
   "cell_type": "code",
   "execution_count": null,
   "metadata": {},
   "outputs": [],
   "source": [
    "train_m_scaled = train_m.copy()\n",
    "test_m_scaled = test_m.copy()"
   ]
  },
  {
   "cell_type": "code",
   "execution_count": null,
   "metadata": {},
   "outputs": [],
   "source": [
    "train_m_scaled[['avg_temp','avg_precips']] = scale.transform(train_m_scaled[['avg_temp','avg_precips']])\n",
    "test_m_scaled[['avg_temp','avg_precips']] = scale.transform(test_m_scaled[['avg_temp','avg_precips']])"
   ]
  },
  {
   "cell_type": "code",
   "execution_count": null,
   "metadata": {},
   "outputs": [],
   "source": [
    "train_m_scaled[['avg_temp','avg_precips']].corr()"
   ]
  },
  {
   "cell_type": "code",
   "execution_count": null,
   "metadata": {},
   "outputs": [],
   "source": [
    "train_m_scaled[['avg_temp','avg_precips']].hist()"
   ]
  },
  {
   "cell_type": "code",
   "execution_count": null,
   "metadata": {},
   "outputs": [],
   "source": [
    "exog_train = np.array([train_m_scaled['avg_temp'], train_m_scaled['avg_precips']]).T\n",
    "exog_test = np.array([test_m_scaled['avg_temp'], test_m_scaled['avg_precips']]).T"
   ]
  },
  {
   "cell_type": "code",
   "execution_count": null,
   "metadata": {},
   "outputs": [],
   "source": [
    "model_with_weather_212_01112 = sm.tsa.statespace.SARIMAX(train_m['count'], trend='n', order=(2,1,2), exog = exog_train,\n",
    "                                          seasonal_order=(0,1,1,12)).fit()"
   ]
  },
  {
   "cell_type": "code",
   "execution_count": null,
   "metadata": {},
   "outputs": [],
   "source": [
    "model_with_weather_212_01112.summary()"
   ]
  },
  {
   "cell_type": "code",
   "execution_count": null,
   "metadata": {},
   "outputs": [],
   "source": [
    "mse.compare_mse_exog(model_with_weather_212_01112, train_m_scaled, test_m_scaled)"
   ]
  },
  {
   "cell_type": "code",
   "execution_count": null,
   "metadata": {},
   "outputs": [],
   "source": [
    "mse.compare_mse(model_212_01112, train_m, test_m)"
   ]
  },
  {
   "cell_type": "code",
   "execution_count": null,
   "metadata": {},
   "outputs": [],
   "source": [
    "pplot.prediction_plot_exog(model_with_weather_212_01112 , train_m_scaled, test_m_scaled, 2,1,2,0,1,1,12)"
   ]
  },
  {
   "cell_type": "code",
   "execution_count": null,
   "metadata": {},
   "outputs": [],
   "source": [
    "model_with_weather_212_11012 = sm.tsa.statespace.SARIMAX(train_m['count'], trend='n', order=(2,1,2), exog = exog_train,\n",
    "                                          seasonal_order=(1,1,0,12)).fit()"
   ]
  },
  {
   "cell_type": "code",
   "execution_count": null,
   "metadata": {},
   "outputs": [],
   "source": [
    "model_with_weather_212_11012.summary()"
   ]
  },
  {
   "cell_type": "code",
   "execution_count": null,
   "metadata": {},
   "outputs": [],
   "source": [
    "mse.compare_mse_exog(model_with_weather_212_11012, train_m_scaled, test_m_scaled)"
   ]
  },
  {
   "cell_type": "code",
   "execution_count": null,
   "metadata": {},
   "outputs": [],
   "source": [
    "mse.compare_mse(model_212_11012, train_m, test_m)"
   ]
  },
  {
   "cell_type": "code",
   "execution_count": null,
   "metadata": {},
   "outputs": [],
   "source": [
    "pplot.prediction_plot_exog(model_with_weather_212_11012 , train_m_scaled, test_m_scaled, 2,1,2,1,1,0,12)"
   ]
  },
  {
   "cell_type": "markdown",
   "metadata": {},
   "source": [
    "## Adding weather patterns as regressors results in highly insignificant ma.S.L12 for (2,1,2)(0,1,1,12) and highly insignificant ar.S.L12 for (2,1,2)(1,1,0,12). Repeat models without these terms, which is (2,1,2)(0,1,0,12)."
   ]
  },
  {
   "cell_type": "code",
   "execution_count": null,
   "metadata": {},
   "outputs": [],
   "source": [
    "model_with_weather_212_01012 = sm.tsa.statespace.SARIMAX(train_m['count'], trend='n', order=(2,1,2), exog = exog_train,\n",
    "                                          seasonal_order=(0,1,0,12)).fit()"
   ]
  },
  {
   "cell_type": "code",
   "execution_count": null,
   "metadata": {},
   "outputs": [],
   "source": [
    "model_with_weather_212_01012.summary()"
   ]
  },
  {
   "cell_type": "code",
   "execution_count": null,
   "metadata": {},
   "outputs": [],
   "source": [
    "mse.compare_mse_exog(model_with_weather_212_01012, train_m_scaled, test_m_scaled)"
   ]
  },
  {
   "cell_type": "code",
   "execution_count": null,
   "metadata": {},
   "outputs": [],
   "source": [
    "pplot.prediction_plot_exog(model_with_weather_212_01012 , train_m_scaled, test_m_scaled, 2,1,2,0,1,0,12)"
   ]
  },
  {
   "cell_type": "markdown",
   "metadata": {},
   "source": [
    "## Best Model still appears to be SARIMA (2,1,2)(0,1,1,12) without Weather."
   ]
  },
  {
   "cell_type": "code",
   "execution_count": null,
   "metadata": {},
   "outputs": [],
   "source": [
    "model_212_01112.summary()"
   ]
  },
  {
   "cell_type": "code",
   "execution_count": null,
   "metadata": {},
   "outputs": [],
   "source": [
    "pplot.prediction_plot(model_212_01112,train_m, test_m, 2,1,2,0,1,1,12)"
   ]
  },
  {
   "cell_type": "code",
   "execution_count": null,
   "metadata": {},
   "outputs": [],
   "source": [
    "forecast_6_conf_int =  model_212_01112.get_forecast(len(test_m) + 6).conf_int(alpha = .2)"
   ]
  },
  {
   "cell_type": "code",
   "execution_count": null,
   "metadata": {},
   "outputs": [],
   "source": [
    "forecast_6_conf_int"
   ]
  },
  {
   "cell_type": "code",
   "execution_count": null,
   "metadata": {},
   "outputs": [],
   "source": [
    "forecast_6 = model_212_01112.forecast(len(test_m) + 6)"
   ]
  },
  {
   "cell_type": "code",
   "execution_count": null,
   "metadata": {},
   "outputs": [],
   "source": [
    "forecast_6.index"
   ]
  },
  {
   "cell_type": "code",
   "execution_count": null,
   "metadata": {},
   "outputs": [],
   "source": [
    "fig = plt.figure(figsize = (20,10))\n",
    "plt.plot(master_m.index,master_m['count'])\n",
    "plt.plot(forecast_6.index, forecast_6)\n",
    "plt.plot(forecast_6_conf_int.index, forecast_6_conf_int['lower count'])\n",
    "plt.plot(forecast_6_conf_int.index, forecast_6_conf_int['upper count'])"
   ]
  },
  {
   "cell_type": "code",
   "execution_count": null,
   "metadata": {},
   "outputs": [],
   "source": []
  }
 ],
 "metadata": {
  "kernelspec": {
   "display_name": "Python 3",
   "language": "python",
   "name": "python3"
  }
 },
 "nbformat": 4,
 "nbformat_minor": 2
}
